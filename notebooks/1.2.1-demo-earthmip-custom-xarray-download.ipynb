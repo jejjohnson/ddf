{
 "cells": [
  {
   "cell_type": "markdown",
   "metadata": {},
   "source": [
    "# Demo 1.2.1 - Downloading Data"
   ]
  },
  {
   "cell_type": "markdown",
   "metadata": {},
   "source": [
    "In this demo, we will download some available ERA5 data to be used for the model predictions.\n",
    "We will use the CDSAPI. \n",
    "You will need an account so follow [these instructions](https://cds.climate.copernicus.eu/api-how-to) to get started.\n",
    "\n",
    "In this demo, we will do the following:\n",
    "* Get the necessary variables for each model\n",
    "* Download the Single Level Variables from the CDS\n",
    "* Download the Multiple Level Variables from the CDS\n",
    "\n",
    "In this demo, we do **not** do:\n",
    "* Download Multiple Time stamps\n",
    "* Smart Downloading of Spatiotemporal Fields\n",
    "* Use other APIs"
   ]
  },
  {
   "cell_type": "code",
   "execution_count": 1,
   "metadata": {},
   "outputs": [
    {
     "name": "stderr",
     "output_type": "stream",
     "text": [
      "/home/juanjohn/miniconda/envs/ddp/lib/python3.10/site-packages/tqdm/auto.py:21: TqdmWarning: IProgress not found. Please update jupyter and ipywidgets. See https://ipywidgets.readthedocs.io/en/stable/user_install.html\n",
      "  from .autonotebook import tqdm as notebook_tqdm\n"
     ]
    }
   ],
   "source": [
    "import autoroot\n",
    "import ee\n",
    "import xarray as xr\n",
    "import cdsapi\n",
    "import climetlab as cml\n",
    "from pathlib import Path\n",
    "import pprint\n",
    "from ddf._src.data.era5.ops import parse_single_levels, parse_pressure_levels, parse_all_variables\n",
    "from ddf._src.models.variables import EARTH2MIP_MODEL_VARIABLES\n",
    "from ddf._src.variables.era5 import VARIABLE_CODES\n",
    "\n",
    "%load_ext autoreload\n",
    "%autoreload 2"
   ]
  },
  {
   "cell_type": "markdown",
   "metadata": {},
   "source": [
    "### Model Variables"
   ]
  },
  {
   "cell_type": "markdown",
   "metadata": {},
   "source": [
    "Firstly, let's gather all of the variables needed for each of the models we will do experiments for.\n",
    "In this case, we only have the following available:\n",
    "* `pangu`\n",
    "* `fcnv2_sm`\n",
    "\n",
    "We will get the set of all \"channel names\" for each model."
   ]
  },
  {
   "cell_type": "code",
   "execution_count": 2,
   "metadata": {},
   "outputs": [],
   "source": [
    "all_variables_names = list(set(EARTH2MIP_MODEL_VARIABLES[\"pangu\"] + EARTH2MIP_MODEL_VARIABLES[\"fcnv2_sm\"]))"
   ]
  },
  {
   "cell_type": "markdown",
   "metadata": {},
   "source": [
    "Now, we will use a custom parser that will go through and try to figure out which ones are surface variables and which ones are pressure level variables."
   ]
  },
  {
   "cell_type": "code",
   "execution_count": 3,
   "metadata": {},
   "outputs": [],
   "source": [
    "# parse single level variables\n",
    "sl_variables = parse_single_levels(all_variables_names)\n",
    "\n",
    "# parse pressure level variables\n",
    "pl_variables = parse_pressure_levels(all_variables_names)"
   ]
  },
  {
   "cell_type": "markdown",
   "metadata": {},
   "source": [
    "### Inspection"
   ]
  },
  {
   "cell_type": "markdown",
   "metadata": {},
   "source": [
    "This will create a custom datastructure which tries to capture all of the information of that variable with all of the naming conventions."
   ]
  },
  {
   "cell_type": "code",
   "execution_count": 4,
   "metadata": {},
   "outputs": [
    {
     "data": {
      "text/plain": [
       "VWind10m(name='v10m', short_name='v10', long_name='10 metre V wind component', era5_name='10m_v_component_of_wind', ecmwf_gid=166, units='meters / second')"
      ]
     },
     "execution_count": 4,
     "metadata": {},
     "output_type": "execute_result"
    }
   ],
   "source": [
    "sl_variables[0]"
   ]
  },
  {
   "cell_type": "code",
   "execution_count": 5,
   "metadata": {},
   "outputs": [
    {
     "data": {
      "text/plain": [
       "WindU(short_name='u', long_name='U Component of Wind', era5_name='u_component_of_wind', standard_name='eastward_wind', ecmwf_gid=131, cmip_name='', level=1000, units='meters / second')"
      ]
     },
     "execution_count": 5,
     "metadata": {},
     "output_type": "execute_result"
    }
   ],
   "source": [
    "pl_variables[0]"
   ]
  },
  {
   "cell_type": "markdown",
   "metadata": {},
   "source": [
    "For example, we can check to see which are the short name variables based on the `short_name` property of each data structure."
   ]
  },
  {
   "cell_type": "code",
   "execution_count": 6,
   "metadata": {},
   "outputs": [
    {
     "data": {
      "text/plain": [
       "{'q', 'r', 't', 'u', 'v', 'z'}"
      ]
     },
     "execution_count": 6,
     "metadata": {},
     "output_type": "execute_result"
    }
   ],
   "source": [
    "set(map(lambda x: x.short_name, pl_variables))"
   ]
  },
  {
   "cell_type": "markdown",
   "metadata": {},
   "source": [
    "Another example: we can check to see which are all of the levels that are named at least once for all of the variables.\n",
    "This does not mean that we need each level per variable (although very likely) but this makes it easier to download."
   ]
  },
  {
   "cell_type": "code",
   "execution_count": 7,
   "metadata": {},
   "outputs": [
    {
     "data": {
      "text/plain": [
       "{50, 100, 150, 200, 250, 300, 400, 500, 600, 700, 850, 925, 1000}"
      ]
     },
     "execution_count": 7,
     "metadata": {},
     "output_type": "execute_result"
    }
   ],
   "source": [
    "set(map(lambda x: x.level, pl_variables))"
   ]
  },
  {
   "cell_type": "markdown",
   "metadata": {},
   "source": [
    "### Creating Requests"
   ]
  },
  {
   "cell_type": "markdown",
   "metadata": {},
   "source": [
    "Now, we will need to create requests via the CDSAPI.\n",
    "They have a standard procedure but I attempted to automate this a bit.\n",
    "Here, we will need to separate the requests:\n",
    "* single level variables\n",
    "* multi-level variables"
   ]
  },
  {
   "cell_type": "code",
   "execution_count": 8,
   "metadata": {},
   "outputs": [],
   "source": [
    "from ddf._src.dtypes.time import Time\n",
    "from ddf._src.dtypes.grid import Grid, RES025\n",
    "from ddf._src.dtypes.region import Region, GLOBE\n",
    "from ddf._src.data.era5.download import (\n",
    "    create_request_single_level, \n",
    "    create_request_pressure_level,\n",
    "    create_request_single_level_multi,\n",
    "    create_request_pressure_level_multi\n",
    ")"
   ]
  },
  {
   "cell_type": "markdown",
   "metadata": {},
   "source": [
    "Some synatic sugar to define some key things that we need.\n",
    "The most important would be the time.\n",
    "For our API, we save everything via a timestamp and day.\n",
    "Something else you may need would be some boundaries as well as some grid size."
   ]
  },
  {
   "cell_type": "code",
   "execution_count": 9,
   "metadata": {},
   "outputs": [],
   "source": [
    "import datetime\n",
    "\n",
    "client = None\n",
    "d = None\n",
    "\n",
    "time = datetime.datetime(year=2021, month=8, day=1)\n",
    "time = Time(time) \n",
    "format = \"netcdf\"\n",
    "region = GLOBE\n",
    "grid = RES025"
   ]
  },
  {
   "cell_type": "markdown",
   "metadata": {},
   "source": [
    "### CDS Requests - Single Levels"
   ]
  },
  {
   "cell_type": "markdown",
   "metadata": {},
   "source": [
    "Now, we can generate the dictionary that's needed to make the request via the API.\n",
    "I also spit out a naming convention based on the time.\n",
    "However, feel free to change this as you see fit."
   ]
  },
  {
   "cell_type": "code",
   "execution_count": 10,
   "metadata": {},
   "outputs": [
    {
     "name": "stdout",
     "output_type": "stream",
     "text": [
      "{'area': (90, -180, -90, 180),\n",
      " 'day': ['01'],\n",
      " 'format': 'netcdf',\n",
      " 'grid': (0.25, 0.25),\n",
      " 'month': ['08'],\n",
      " 'param': '166/137/165/167/228247/151/228246/134',\n",
      " 'product_type': 'reanalysis',\n",
      " 'time': ['00:00'],\n",
      " 'year': ['2021']}\n"
     ]
    },
    {
     "data": {
      "text/plain": [
       "('reanalysis-era5-single-levels', None, 'reanalysis-202108010000-sl.nc')"
      ]
     },
     "execution_count": 10,
     "metadata": {},
     "output_type": "execute_result"
    }
   ],
   "source": [
    "# create request\n",
    "\n",
    "dataset, request, save_name = create_request_single_level_multi(\n",
    "    sl_variables, \n",
    "    time=time,\n",
    "    region=region,\n",
    "    grid=grid,\n",
    "    save_format=\"netcdf\"\n",
    "    \n",
    ")\n",
    "dataset, pprint.pprint(request), save_name"
   ]
  },
  {
   "cell_type": "markdown",
   "metadata": {},
   "source": [
    "Side note: we can verify that the request makes sense by inspecting the variables based on the parameter codes."
   ]
  },
  {
   "cell_type": "code",
   "execution_count": 11,
   "metadata": {},
   "outputs": [
    {
     "name": "stdout",
     "output_type": "stream",
     "text": [
      "Variable Names: {'u10', 'u100', 'tcwv', 'v100', 'msl', 'v10', 't2m', 'sp'}\n",
      "Requests Names: ['v10', 'tcwv', 'u10', 't2m', 'v100', 'msl', 'u100', 'sp']\n"
     ]
    }
   ],
   "source": [
    "print(f\"Variable Names:\", set(map(lambda x: x.short_name, sl_variables)))\n",
    "vars = list(map(lambda x: VARIABLE_CODES[int(x)]().short_name, request[\"param\"].split(\"/\")))\n",
    "print(f\"Requests Names:\", vars)"
   ]
  },
  {
   "cell_type": "markdown",
   "metadata": {},
   "source": [
    "Now, we can make a request by using the CDSAPI client that they provide."
   ]
  },
  {
   "cell_type": "code",
   "execution_count": 12,
   "metadata": {},
   "outputs": [
    {
     "name": "stderr",
     "output_type": "stream",
     "text": [
      "2024-06-26 17:52:52,665 INFO Welcome to the CDS\n",
      "2024-06-26 17:52:52,666 INFO Sending request to https://cds.climate.copernicus.eu/api/v2/resources/reanalysis-era5-single-levels\n",
      "2024-06-26 17:52:52,737 INFO Request is queued\n",
      "2024-06-26 17:52:53,772 INFO Request is running\n",
      "2024-06-26 17:53:01,005 INFO Request is completed\n",
      "2024-06-26 17:53:01,005 INFO Downloading https://download-0015-clone.copernicus-climate.eu/cache-compute-0015/cache/data6/adaptor.mars.internal-1719417178.5173264-8212-15-f5c94c85-8341-49ba-b7c0-4e758b407091.nc to /pool/proyectos/CLINT/sa4attrs/data/raw/events/test/reanalysis-202108010000-sl.nc (15.9M)\n",
      "2024-06-26 17:53:01,728 INFO Download rate 22M/s    \n"
     ]
    },
    {
     "data": {
      "text/plain": [
       "Result(content_length=16623508,content_type=application/x-netcdf,location=https://download-0015-clone.copernicus-climate.eu/cache-compute-0015/cache/data6/adaptor.mars.internal-1719417178.5173264-8212-15-f5c94c85-8341-49ba-b7c0-4e758b407091.nc)"
      ]
     },
     "execution_count": 12,
     "metadata": {},
     "output_type": "execute_result"
    }
   ],
   "source": [
    "c = cdsapi.Client()\n",
    "save_dir = \"/pool/proyectos/CLINT/sa4attrs/data/raw/events/test\"\n",
    "save_path = Path(save_dir).joinpath(save_name)\n",
    "c.retrieve(dataset, request, save_path) "
   ]
  },
  {
   "cell_type": "markdown",
   "metadata": {},
   "source": [
    "### CDS Requests - Multiple Pressure Levels"
   ]
  },
  {
   "cell_type": "markdown",
   "metadata": {},
   "source": [
    "We will do the same thing except now we will do this for the multiple pressure level variables.\n",
    "All of the steps are exactly the same as the above section."
   ]
  },
  {
   "cell_type": "code",
   "execution_count": 13,
   "metadata": {},
   "outputs": [
    {
     "name": "stdout",
     "output_type": "stream",
     "text": [
      "{'area': (90, -180, -90, 180),\n",
      " 'day': ['01'],\n",
      " 'format': 'netcdf',\n",
      " 'grid': (0.25, 0.25),\n",
      " 'month': ['08'],\n",
      " 'param': '129/133/130/132/157/131',\n",
      " 'pressure_level': [100,\n",
      "                    1000,\n",
      "                    200,\n",
      "                    300,\n",
      "                    400,\n",
      "                    50,\n",
      "                    850,\n",
      "                    500,\n",
      "                    150,\n",
      "                    600,\n",
      "                    250,\n",
      "                    700,\n",
      "                    925],\n",
      " 'product_type': 'reanalysis',\n",
      " 'time': ['00:00'],\n",
      " 'year': ['2021']}\n"
     ]
    },
    {
     "data": {
      "text/plain": [
       "(None, 'reanalysis-202108010000-pl.nc')"
      ]
     },
     "execution_count": 13,
     "metadata": {},
     "output_type": "execute_result"
    }
   ],
   "source": [
    "dataset, request, save_name = create_request_pressure_level_multi(\n",
    "    codes=pl_variables, \n",
    "    time=time, \n",
    "    save_format=\"netcdf\",\n",
    ")\n",
    "pprint.pprint(request), save_name"
   ]
  },
  {
   "cell_type": "markdown",
   "metadata": {},
   "source": [
    "Again, just to check.."
   ]
  },
  {
   "cell_type": "code",
   "execution_count": 18,
   "metadata": {},
   "outputs": [
    {
     "name": "stdout",
     "output_type": "stream",
     "text": [
      "Variable Names: {'q', 't', 'r', 'u', 'z', 'v'}\n",
      "Requests Names: ['z', 'q', 't', 'v', 'r', 'u']\n"
     ]
    }
   ],
   "source": [
    "print(f\"Variable Names:\", set(map(lambda x: x.short_name, pl_variables)))\n",
    "vars = list(map(lambda x: VARIABLE_CODES[int(x)]().short_name, request[\"param\"].split(\"/\")))\n",
    "print(f\"Requests Names:\", vars)"
   ]
  },
  {
   "cell_type": "code",
   "execution_count": 17,
   "metadata": {},
   "outputs": [
    {
     "name": "stdout",
     "output_type": "stream",
     "text": [
      "Variable Names: {100, 1000, 200, 300, 400, 50, 850, 500, 150, 600, 250, 700, 925}\n",
      "Requests Names: [100, 1000, 200, 300, 400, 50, 850, 500, 150, 600, 250, 700, 925]\n"
     ]
    }
   ],
   "source": [
    "print(f\"Variable Names:\", set(map(lambda x: x.level, pl_variables)))\n",
    "print(f\"Requests Names:\", request[\"pressure_level\"])"
   ]
  },
  {
   "cell_type": "code",
   "execution_count": 15,
   "metadata": {},
   "outputs": [
    {
     "name": "stderr",
     "output_type": "stream",
     "text": [
      "2024-06-26 17:53:06,927 INFO Welcome to the CDS\n",
      "2024-06-26 17:53:06,927 INFO Sending request to https://cds.climate.copernicus.eu/api/v2/resources/reanalysis-era5-pressure-levels\n",
      "2024-06-26 17:53:06,991 INFO Request is queued\n",
      "2024-06-26 17:53:09,560 INFO Request is running\n",
      "2024-06-26 17:53:20,358 INFO Request is completed\n",
      "2024-06-26 17:53:20,359 INFO Downloading https://download-0011-clone.copernicus-climate.eu/cache-compute-0011/cache/data6/adaptor.mars.internal-1719417195.7378318-312-6-13b124be-dc8a-4901-b409-d79bff872232.nc to /pool/proyectos/CLINT/sa4attrs/data/raw/events/test/reanalysis-202108010000-pl.nc (154.5M)\n",
      "2024-06-26 17:53:28,856 INFO Download rate 18.2M/s \n"
     ]
    },
    {
     "data": {
      "text/plain": [
       "Result(content_length=161976836,content_type=application/x-netcdf,location=https://download-0011-clone.copernicus-climate.eu/cache-compute-0011/cache/data6/adaptor.mars.internal-1719417195.7378318-312-6-13b124be-dc8a-4901-b409-d79bff872232.nc)"
      ]
     },
     "execution_count": 15,
     "metadata": {},
     "output_type": "execute_result"
    }
   ],
   "source": [
    "c = cdsapi.Client()\n",
    "save_dir = \"/pool/proyectos/CLINT/sa4attrs/data/raw/events/test\"\n",
    "save_path = Path(save_dir).joinpath(save_name)\n",
    "c.retrieve(dataset, request, save_path) "
   ]
  }
 ],
 "metadata": {
  "kernelspec": {
   "display_name": "ddp",
   "language": "python",
   "name": "python3"
  },
  "language_info": {
   "codemirror_mode": {
    "name": "ipython",
    "version": 3
   },
   "file_extension": ".py",
   "mimetype": "text/x-python",
   "name": "python",
   "nbconvert_exporter": "python",
   "pygments_lexer": "ipython3",
   "version": "3.1.-1"
  }
 },
 "nbformat": 4,
 "nbformat_minor": 2
}
